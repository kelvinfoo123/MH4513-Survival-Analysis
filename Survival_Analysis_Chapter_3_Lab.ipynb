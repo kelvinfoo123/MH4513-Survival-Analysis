{
  "nbformat": 4,
  "nbformat_minor": 0,
  "metadata": {
    "colab": {
      "provenance": [],
      "authorship_tag": "ABX9TyNU2uMXld5eUtLORB+/q08s",
      "include_colab_link": true
    },
    "kernelspec": {
      "name": "ir",
      "display_name": "R"
    },
    "language_info": {
      "name": "R"
    }
  },
  "cells": [
    {
      "cell_type": "markdown",
      "metadata": {
        "id": "view-in-github",
        "colab_type": "text"
      },
      "source": [
        "<a href=\"https://colab.research.google.com/github/kelvinfoo123/Survival-Analysis/blob/main/Survival_Analysis_Chapter_3_Lab.ipynb\" target=\"_parent\"><img src=\"https://colab.research.google.com/assets/colab-badge.svg\" alt=\"Open In Colab\"/></a>"
      ]
    },
    {
      "cell_type": "markdown",
      "source": [
        "**Import libraries**"
      ],
      "metadata": {
        "id": "JOYCJhVz-jJU"
      }
    },
    {
      "cell_type": "code",
      "execution_count": 1,
      "metadata": {
        "colab": {
          "base_uri": "https://localhost:8080/"
        },
        "id": "EDuNLMog9_HO",
        "outputId": "23058770-5603-4d79-9b2a-9dd795bc3c5d"
      },
      "outputs": [
        {
          "output_type": "stream",
          "name": "stderr",
          "text": [
            "Installing package into ‘/usr/local/lib/R/site-library’\n",
            "(as ‘lib’ is unspecified)\n",
            "\n"
          ]
        }
      ],
      "source": [
        "install.packages(\"survival\")\n",
        "library(survival)"
      ]
    },
    {
      "cell_type": "markdown",
      "source": [
        "**Calculating Survival Probabilities and Plotting Survival Curves**"
      ],
      "metadata": {
        "id": "QSIwojk3-16D"
      }
    },
    {
      "cell_type": "markdown",
      "source": [
        "Example 1 with no estimates of the survival function"
      ],
      "metadata": {
        "id": "TVIwhOtzAVuf"
      }
    },
    {
      "cell_type": "code",
      "source": [
        "time = c(7,6,6,5,2,4)\n",
        "event = c(0,1,0,0,1,1)\n",
        "\n",
        "Surv(time, event)"
      ],
      "metadata": {
        "colab": {
          "base_uri": "https://localhost:8080/",
          "height": 35
        },
        "id": "iw1L8gso-_Gr",
        "outputId": "f915d4d8-1869-4918-8069-efbc3b4d9a86"
      },
      "execution_count": 2,
      "outputs": [
        {
          "output_type": "display_data",
          "data": {
            "text/plain": [
              "[1] 7+ 6  6+ 5+ 2  4 "
            ]
          },
          "metadata": {}
        }
      ]
    },
    {
      "cell_type": "code",
      "source": [
        "result.km = survfit(Surv(time, event) ~ 1, conf.type = 'log-log')\n",
        "result.km"
      ],
      "metadata": {
        "colab": {
          "base_uri": "https://localhost:8080/",
          "height": 90
        },
        "id": "dpfb5UsG_M2P",
        "outputId": "241ed399-31d4-495c-dcfd-c289ffa95b8c"
      },
      "execution_count": 4,
      "outputs": [
        {
          "output_type": "display_data",
          "data": {
            "text/plain": [
              "Call: survfit(formula = Surv(time, event) ~ 1, conf.type = \"log-log\")\n",
              "\n",
              "     n events median 0.95LCL 0.95UCL\n",
              "[1,] 6      3      6       2      NA"
            ]
          },
          "metadata": {}
        }
      ]
    },
    {
      "cell_type": "markdown",
      "source": [
        "\n",
        "\n",
        "*   Number of events = 3 (3 deaths)\n",
        "*   Median survival time = 6\n",
        "*   95% lower confidence interval for median = 2\n",
        "\n",
        "\n",
        "\n"
      ],
      "metadata": {
        "id": "2WEFdVqU_dpS"
      }
    },
    {
      "cell_type": "code",
      "source": [
        "summary(result.km) # Survival contains survival probability for each of the time with events. "
      ],
      "metadata": {
        "colab": {
          "base_uri": "https://localhost:8080/",
          "height": 126
        },
        "id": "2PgZj-ck_vqf",
        "outputId": "ecb0af29-9a80-46ed-eba9-372724ec3881"
      },
      "execution_count": 5,
      "outputs": [
        {
          "output_type": "display_data",
          "data": {
            "text/plain": [
              "Call: survfit(formula = Surv(time, event) ~ 1, conf.type = \"log-log\")\n",
              "\n",
              " time n.risk n.event survival std.err lower 95% CI upper 95% CI\n",
              "    2      6       1    0.833   0.152       0.2731        0.975\n",
              "    4      5       1    0.667   0.192       0.1946        0.904\n",
              "    6      3       1    0.444   0.222       0.0662        0.785"
            ]
          },
          "metadata": {}
        }
      ]
    },
    {
      "cell_type": "code",
      "source": [
        "plot(result.km) # Dotted lines represent survival curves for lower and upper CI. "
      ],
      "metadata": {
        "colab": {
          "base_uri": "https://localhost:8080/",
          "height": 437
        },
        "id": "_BDG2PQ3AEtq",
        "outputId": "89cbe7bf-718e-4b4e-8131-f886d2e90264"
      },
      "execution_count": 6,
      "outputs": [
        {
          "output_type": "display_data",
          "data": {
            "text/plain": [
              "plot without title"
            ],
            "image/png": "[encoded data removed]"
          },
          "metadata": {
            "image/png": {
              "width": 420,
              "height": 420
            }
          }
        }
      ]
    },
    {
      "cell_type": "markdown",
      "source": [
        "Example 1 with Nelson-Altschuler estimate of survival function"
      ],
      "metadata": {
        "id": "W5_fRADmAdtr"
      }
    },
    {
      "cell_type": "code",
      "source": [
        "result.fh = survfit(Surv(time, event) ~ 1, conf.type = 'log-log', type = 'fh')\n",
        "summary(result.fh)"
      ],
      "metadata": {
        "colab": {
          "base_uri": "https://localhost:8080/",
          "height": 145
        },
        "id": "R3WxFU6vAl4Y",
        "outputId": "561ccf7b-a0ee-41b3-e0dc-5d627563c93e"
      },
      "execution_count": 7,
      "outputs": [
        {
          "output_type": "display_data",
          "data": {
            "text/plain": [
              "Call: survfit(formula = Surv(time, event) ~ 1, conf.type = \"log-log\", \n",
              "    type = \"fh\")\n",
              "\n",
              " time n.risk n.event survival std.err lower 95% CI upper 95% CI\n",
              "    2      6       1    0.846   0.141        0.306        0.977\n",
              "    4      5       1    0.693   0.180        0.229        0.913\n",
              "    6      3       1    0.497   0.210        0.101        0.807"
            ]
          },
          "metadata": {}
        }
      ]
    },
    {
      "cell_type": "code",
      "source": [
        "plot(result.fh)"
      ],
      "metadata": {
        "colab": {
          "base_uri": "https://localhost:8080/",
          "height": 437
        },
        "id": "xN9X830NA3F-",
        "outputId": "5fae4e5f-c6e8-4bed-d8f8-2e7c9826a80e"
      },
      "execution_count": 8,
      "outputs": [
        {
          "output_type": "display_data",
          "data": {
            "text/plain": [
              "plot without title"
            ],
            "image/png": "[encoded data removed]"
          },
          "metadata": {
            "image/png": {
              "width": 420,
              "height": 420
            }
          }
        }
      ]
    },
    {
      "cell_type": "markdown",
      "source": [
        "Example 2 (GastricXelox Dataset)"
      ],
      "metadata": {
        "id": "MhMGe_JYA-91"
      }
    },
    {
      "cell_type": "code",
      "source": [
        "install.packages(\"asaur\")\n",
        "library(asaur)"
      ],
      "metadata": {
        "colab": {
          "base_uri": "https://localhost:8080/"
        },
        "id": "eugyn_XdBDRH",
        "outputId": "36a1c0b0-513d-4b1d-869a-516e148dee96"
      },
      "execution_count": 9,
      "outputs": [
        {
          "output_type": "stream",
          "name": "stderr",
          "text": [
            "Installing package into ‘/usr/local/lib/R/site-library’\n",
            "(as ‘lib’ is unspecified)\n",
            "\n"
          ]
        }
      ]
    },
    {
      "cell_type": "code",
      "source": [
        "timeMonths = gastricXelox$timeWeeks * 7 / 30.25 # Convert into months \n",
        "delta = gastricXelox$delta \n",
        "result.km = survfit(Surv(timeMonths, delta) ~ 1, conf.type = 'log-log')\n",
        "plot(result.km)"
      ],
      "metadata": {
        "colab": {
          "base_uri": "https://localhost:8080/",
          "height": 437
        },
        "id": "V9chfAvnBcUO",
        "outputId": "08814bdf-56f7-4a9f-ce0f-3f4b7706a4e6"
      },
      "execution_count": 10,
      "outputs": [
        {
          "output_type": "display_data",
          "data": {
            "text/plain": [
              "plot without title"
            ],
            "image/png": "[encoded data removed]"
          },
          "metadata": {
            "image/png": {
              "width": 420,
              "height": 420
            }
          }
        }
      ]
    },
    {
      "cell_type": "markdown",
      "source": [
        "**Find Median Follow Up Time**"
      ],
      "metadata": {
        "id": "ufzIQuopCIQ3"
      }
    },
    {
      "cell_type": "code",
      "source": [
        "delta.followup = 1 - delta # Flip death and censored to find median follow up time \n",
        "survfit(Surv(timeMonths, delta.followup) ~ 1)"
      ],
      "metadata": {
        "colab": {
          "base_uri": "https://localhost:8080/",
          "height": 90
        },
        "id": "Oy9ZrVpwCPhm",
        "outputId": "60734e77-b1f4-4805-d2ec-88a6581130b1"
      },
      "execution_count": 11,
      "outputs": [
        {
          "output_type": "display_data",
          "data": {
            "text/plain": [
              "Call: survfit(formula = Surv(timeMonths, delta.followup) ~ 1)\n",
              "\n",
              "      n events median 0.95LCL 0.95UCL\n",
              "[1,] 48     16   27.8    21.1    50.2"
            ]
          },
          "metadata": {}
        }
      ]
    },
    {
      "cell_type": "markdown",
      "source": [
        "\n",
        "*   Potential median follow up time = 27.8 months\n",
        "\n"
      ],
      "metadata": {
        "id": "QKmG9uXGCgP4"
      }
    },
    {
      "cell_type": "markdown",
      "source": [
        "**Smoothed Hazard Function Estimate**"
      ],
      "metadata": {
        "id": "3m0_B5RECxx_"
      }
    },
    {
      "cell_type": "code",
      "source": [
        "# Library for estimating hazard function \n",
        "install.packages(\"muhaz\")\n",
        "library(muhaz)"
      ],
      "metadata": {
        "colab": {
          "base_uri": "https://localhost:8080/"
        },
        "id": "6TKqaPD4C4yw",
        "outputId": "d2a3b69e-07ef-4595-ae3d-7e134f9e1146"
      },
      "execution_count": 12,
      "outputs": [
        {
          "output_type": "stream",
          "name": "stderr",
          "text": [
            "Installing package into ‘/usr/local/lib/R/site-library’\n",
            "(as ‘lib’ is unspecified)\n",
            "\n"
          ]
        }
      ]
    },
    {
      "cell_type": "code",
      "source": [
        "result.smooth = muhaz(timeMonths, delta, bw.smooth = 20, b.cor = \"left\", max.time = 20) # bw.smooth is smoothing parameter\n",
        "# b.cor = left indicates that we want boundary correction to the left, at small t. \n",
        "plot(result.smooth)"
      ],
      "metadata": {
        "colab": {
          "base_uri": "https://localhost:8080/",
          "height": 437
        },
        "id": "_G--O2PsDkyc",
        "outputId": "1d30825d-b277-4d89-9e8f-6dbdb9361c1f"
      },
      "execution_count": 14,
      "outputs": [
        {
          "output_type": "display_data",
          "data": {
            "text/plain": [
              "plot without title"
            ],
            "image/png": "[encoded data removed]"
          },
          "metadata": {
            "image/png": {
              "width": 420,
              "height": 420
            }
          }
        }
      ]
    },
    {
      "cell_type": "markdown",
      "source": [
        "**Smoothed Survival Function Estimate**"
      ],
      "metadata": {
        "id": "mXf7dD3fEMwv"
      }
    },
    {
      "cell_type": "code",
      "source": [
        "haz = result.smooth$haz.est\n",
        "times = result.smooth$est.grid \n",
        "surv = exp(-cumsum(haz[1:(length(haz) - 1)] * diff(times)))\n",
        "\n",
        "result.km = survfit(Surv(timeMonths, delta) ~ 1, conf.type = \"none\") # Original survival function \n",
        "plot(result.km)\n",
        "lines(surv ~ times[1:length(times) -1]) # Smooth survival estimate "
      ],
      "metadata": {
        "colab": {
          "base_uri": "https://localhost:8080/",
          "height": 437
        },
        "id": "UzcRrYp5EQoE",
        "outputId": "7cb44dc3-071f-4e18-dd4c-7d86c85f6a06"
      },
      "execution_count": 16,
      "outputs": [
        {
          "output_type": "display_data",
          "data": {
            "text/plain": [
              "plot without title"
            ],
            "image/png": "[encoded data removed]"
          },
          "metadata": {
            "image/png": {
              "width": 420,
              "height": 420
            }
          }
        }
      ]
    },
    {
      "cell_type": "markdown",
      "source": [
        "**Left Truncation**"
      ],
      "metadata": {
        "id": "ZkY2MJREFLRS"
      }
    },
    {
      "cell_type": "markdown",
      "source": [
        "Example 1"
      ],
      "metadata": {
        "id": "ru2z-2YQFbFD"
      }
    },
    {
      "cell_type": "code",
      "source": [
        "time = c(7, 6, 6, 5, 2 , 4)\n",
        "event = c(0, 1, 0, 0, 1, 1)\n",
        "diagnosis = c(-2, -5, -3, -3, -2, -5) # Time of diagnosis \n",
        "\n",
        "tm.enter = -diagnosis # Time of entry into trial, Treat diagnosis as time of origin \n",
        "tm.exit = time - diagnosis # Time of exit from trial \n",
        "\n",
        "result.left.trunc.km = survfit(Surv(tm.enter, tm.exit, event, type = 'counting') ~ 1, conf.type = 'none')\n",
        "summary(result.left.trunc.km)"
      ],
      "metadata": {
        "colab": {
          "base_uri": "https://localhost:8080/",
          "height": 145
        },
        "id": "yzDH-i7vFP94",
        "outputId": "d5ea4614-c1f8-475f-90fc-6d6295022258"
      },
      "execution_count": 17,
      "outputs": [
        {
          "output_type": "display_data",
          "data": {
            "text/plain": [
              "Call: survfit(formula = Surv(tm.enter, tm.exit, event, type = \"counting\") ~ \n",
              "    1, conf.type = \"none\")\n",
              "\n",
              " time n.risk n.event censored survival std.err\n",
              "    4      4       1        0    0.750   0.217\n",
              "    9      4       1        3    0.562   0.230\n",
              "   11      1       1        0    0.000     NaN"
            ]
          },
          "metadata": {}
        }
      ]
    },
    {
      "cell_type": "code",
      "source": [
        "plot(result.left.trunc.km)"
      ],
      "metadata": {
        "colab": {
          "base_uri": "https://localhost:8080/",
          "height": 437
        },
        "id": "Qqp6INhTG1Q_",
        "outputId": "ede8d6f4-c3fd-452f-cb9d-c74c1d86ec1b"
      },
      "execution_count": 18,
      "outputs": [
        {
          "output_type": "display_data",
          "data": {
            "text/plain": [
              "plot without title"
            ],
            "image/png": "[encoded data removed]"
          },
          "metadata": {
            "image/png": {
              "width": 420,
              "height": 420
            }
          }
        }
      ]
    }
  ]
}