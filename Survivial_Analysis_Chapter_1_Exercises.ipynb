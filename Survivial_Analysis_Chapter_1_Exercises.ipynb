{
  "nbformat": 4,
  "nbformat_minor": 0,
  "metadata": {
    "colab": {
      "provenance": [],
      "authorship_tag": "ABX9TyNtPNqYFWNubYKAJhAnTvdn",
      "include_colab_link": true
    },
    "kernelspec": {
      "name": "ir",
      "display_name": "R"
    },
    "language_info": {
      "name": "R"
    }
  },
  "cells": [
    {
      "cell_type": "markdown",
      "metadata": {
        "id": "view-in-github",
        "colab_type": "text"
      },
      "source": [
        "<a href=\"https://colab.research.google.com/github/kelvinfoo123/Survival-Analysis/blob/main/Survivial_Analysis_Chapter_1_Exercises.ipynb\" target=\"_parent\"><img src=\"https://colab.research.google.com/assets/colab-badge.svg\" alt=\"Open In Colab\"/></a>"
      ]
    },
    {
      "cell_type": "markdown",
      "source": [
        "**Question 1**\n",
        "\n",
        "For the “gastricXelox” data set, use R to determine how many patients had the\n",
        "event (death or progression), the number of person-weeks of follow-up time, and\n",
        "the event rate per person-week."
      ],
      "metadata": {
        "id": "N3kIoQr7281-"
      }
    },
    {
      "cell_type": "code",
      "execution_count": 2,
      "metadata": {
        "colab": {
          "base_uri": "https://localhost:8080/"
        },
        "id": "uKPiNTEi2sIX",
        "outputId": "cdfa52a6-d6e5-4ac8-d38b-8112a237fe2e"
      },
      "outputs": [
        {
          "output_type": "stream",
          "name": "stderr",
          "text": [
            "Installing package into ‘/usr/local/lib/R/site-library’\n",
            "(as ‘lib’ is unspecified)\n",
            "\n"
          ]
        }
      ],
      "source": [
        "# Get data \n",
        "install.packages(\"asaur\")\n",
        "library(asaur)"
      ]
    },
    {
      "cell_type": "code",
      "source": [
        "head(gastricXelox)"
      ],
      "metadata": {
        "colab": {
          "base_uri": "https://localhost:8080/",
          "height": 286
        },
        "id": "6AuzHnmA3bk-",
        "outputId": "5df51902-7f13-4e83-f707-6c231d6d1ddc"
      },
      "execution_count": 8,
      "outputs": [
        {
          "output_type": "display_data",
          "data": {
            "text/html": [
              "<table class=\"dataframe\">\n",
              "<caption>A data.frame: 6 × 2</caption>\n",
              "<thead>\n",
              "\t<tr><th></th><th scope=col>timeWeeks</th><th scope=col>delta</th></tr>\n",
              "\t<tr><th></th><th scope=col>&lt;int&gt;</th><th scope=col>&lt;int&gt;</th></tr>\n",
              "</thead>\n",
              "<tbody>\n",
              "\t<tr><th scope=row>1</th><td> 4</td><td>1</td></tr>\n",
              "\t<tr><th scope=row>2</th><td> 8</td><td>1</td></tr>\n",
              "\t<tr><th scope=row>3</th><td> 8</td><td>1</td></tr>\n",
              "\t<tr><th scope=row>4</th><td> 8</td><td>1</td></tr>\n",
              "\t<tr><th scope=row>5</th><td> 9</td><td>1</td></tr>\n",
              "\t<tr><th scope=row>6</th><td>11</td><td>1</td></tr>\n",
              "</tbody>\n",
              "</table>\n"
            ],
            "text/markdown": "\nA data.frame: 6 × 2\n\n| <!--/--> | timeWeeks &lt;int&gt; | delta &lt;int&gt; |\n|---|---|---|\n| 1 |  4 | 1 |\n| 2 |  8 | 1 |\n| 3 |  8 | 1 |\n| 4 |  8 | 1 |\n| 5 |  9 | 1 |\n| 6 | 11 | 1 |\n\n",
            "text/latex": "A data.frame: 6 × 2\n\\begin{tabular}{r|ll}\n  & timeWeeks & delta\\\\\n  & <int> & <int>\\\\\n\\hline\n\t1 &  4 & 1\\\\\n\t2 &  8 & 1\\\\\n\t3 &  8 & 1\\\\\n\t4 &  8 & 1\\\\\n\t5 &  9 & 1\\\\\n\t6 & 11 & 1\\\\\n\\end{tabular}\n",
            "text/plain": [
              "  timeWeeks delta\n",
              "1  4        1    \n",
              "2  8        1    \n",
              "3  8        1    \n",
              "4  8        1    \n",
              "5  9        1    \n",
              "6 11        1    "
            ]
          },
          "metadata": {}
        }
      ]
    },
    {
      "cell_type": "code",
      "source": [
        "# Determine number of patients with event (ie. delta = 1)\n",
        "library(dplyr)\n",
        "gastricXelox %>% group_by(delta) %>% count()\n",
        "\n",
        "# There are 32 patients with events. "
      ],
      "metadata": {
        "colab": {
          "base_uri": "https://localhost:8080/",
          "height": 421
        },
        "id": "fxfyU0fm3iGL",
        "outputId": "dbd92846-87a3-4015-f4dd-8c39931825ac"
      },
      "execution_count": 5,
      "outputs": [
        {
          "output_type": "stream",
          "name": "stderr",
          "text": [
            "\n",
            "Attaching package: ‘dplyr’\n",
            "\n",
            "\n",
            "The following objects are masked from ‘package:stats’:\n",
            "\n",
            "    filter, lag\n",
            "\n",
            "\n",
            "The following objects are masked from ‘package:base’:\n",
            "\n",
            "    intersect, setdiff, setequal, union\n",
            "\n",
            "\n"
          ]
        },
        {
          "output_type": "display_data",
          "data": {
            "text/html": [
              "<table class=\"dataframe\">\n",
              "<caption>A grouped_df: 2 × 2</caption>\n",
              "<thead>\n",
              "\t<tr><th scope=col>delta</th><th scope=col>n</th></tr>\n",
              "\t<tr><th scope=col>&lt;int&gt;</th><th scope=col>&lt;int&gt;</th></tr>\n",
              "</thead>\n",
              "<tbody>\n",
              "\t<tr><td>0</td><td>16</td></tr>\n",
              "\t<tr><td>1</td><td>32</td></tr>\n",
              "</tbody>\n",
              "</table>\n"
            ],
            "text/markdown": "\nA grouped_df: 2 × 2\n\n| delta &lt;int&gt; | n &lt;int&gt; |\n|---|---|\n| 0 | 16 |\n| 1 | 32 |\n\n",
            "text/latex": "A grouped\\_df: 2 × 2\n\\begin{tabular}{ll}\n delta & n\\\\\n <int> & <int>\\\\\n\\hline\n\t 0 & 16\\\\\n\t 1 & 32\\\\\n\\end{tabular}\n",
            "text/plain": [
              "  delta n \n",
              "1 0     16\n",
              "2 1     32"
            ]
          },
          "metadata": {}
        }
      ]
    },
    {
      "cell_type": "code",
      "source": [
        "# Number of person-weeks\n",
        "Weeks = sum(gastricXelox['timeWeeks'])\n",
        "Weeks\n",
        "\n",
        "# Total person-weeks = 2866"
      ],
      "metadata": {
        "colab": {
          "base_uri": "https://localhost:8080/",
          "height": 34
        },
        "id": "D2tfwv5C4Spk",
        "outputId": "865237e9-498a-49c7-fc0a-859b9ec85066"
      },
      "execution_count": 11,
      "outputs": [
        {
          "output_type": "display_data",
          "data": {
            "text/html": [
              "2866"
            ],
            "text/markdown": "2866",
            "text/latex": "2866",
            "text/plain": [
              "[1] 2866"
            ]
          },
          "metadata": {}
        }
      ]
    },
    {
      "cell_type": "code",
      "source": [
        "# Event rate per person week \n",
        "event_rate = gastricXelox %>% filter(delta == 1) %>% count() / Weeks \n",
        "event_rate\n",
        "\n",
        "# Event rate = 0.0111"
      ],
      "metadata": {
        "colab": {
          "base_uri": "https://localhost:8080/",
          "height": 147
        },
        "id": "LJmb0Epq5ARq",
        "outputId": "ee2e9718-f523-4715-ac29-2d834ce29f55"
      },
      "execution_count": 15,
      "outputs": [
        {
          "output_type": "display_data",
          "data": {
            "text/html": [
              "<table class=\"dataframe\">\n",
              "<caption>A data.frame: 1 × 1</caption>\n",
              "<thead>\n",
              "\t<tr><th scope=col>n</th></tr>\n",
              "\t<tr><th scope=col>&lt;dbl&gt;</th></tr>\n",
              "</thead>\n",
              "<tbody>\n",
              "\t<tr><td>0.01116539</td></tr>\n",
              "</tbody>\n",
              "</table>\n"
            ],
            "text/markdown": "\nA data.frame: 1 × 1\n\n| n &lt;dbl&gt; |\n|---|\n| 0.01116539 |\n\n",
            "text/latex": "A data.frame: 1 × 1\n\\begin{tabular}{l}\n n\\\\\n <dbl>\\\\\n\\hline\n\t 0.01116539\\\\\n\\end{tabular}\n",
            "text/plain": [
              "  n         \n",
              "1 0.01116539"
            ]
          },
          "metadata": {}
        }
      ]
    }
  ]
}