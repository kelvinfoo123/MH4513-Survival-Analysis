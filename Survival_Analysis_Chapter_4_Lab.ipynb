{
  "nbformat": 4,
  "nbformat_minor": 0,
  "metadata": {
    "colab": {
      "provenance": [],
      "authorship_tag": "ABX9TyPwuo3tTq05qnJs85wVK96E",
      "include_colab_link": true
    },
    "kernelspec": {
      "name": "ir",
      "display_name": "R"
    },
    "language_info": {
      "name": "R"
    }
  },
  "cells": [
    {
      "cell_type": "markdown",
      "metadata": {
        "id": "view-in-github",
        "colab_type": "text"
      },
      "source": [
        "<a href=\"https://colab.research.google.com/github/kelvinfoo123/Survival-Analysis/blob/main/Survival_Analysis_Chapter_4_Lab.ipynb\" target=\"_parent\"><img src=\"https://colab.research.google.com/assets/colab-badge.svg\" alt=\"Open In Colab\"/></a>"
      ]
    },
    {
      "cell_type": "markdown",
      "source": [
        "**Question 1**\n",
        "\n",
        "Using the pharmacoSmoking data, compare the two treatments using the\n",
        "Prentice modification of the Gehan test, and compare your results to those from\n",
        "the log-rank test."
      ],
      "metadata": {
        "id": "dqOnJXhHYGNy"
      }
    },
    {
      "cell_type": "code",
      "execution_count": 2,
      "metadata": {
        "colab": {
          "base_uri": "https://localhost:8080/"
        },
        "id": "wHHdnPKCXkPT",
        "outputId": "dc471f58-5897-4710-d4f5-e351e91474e8"
      },
      "outputs": [
        {
          "output_type": "stream",
          "name": "stderr",
          "text": [
            "Installing package into ‘/usr/local/lib/R/site-library’\n",
            "(as ‘lib’ is unspecified)\n",
            "\n",
            "Installing package into ‘/usr/local/lib/R/site-library’\n",
            "(as ‘lib’ is unspecified)\n",
            "\n"
          ]
        }
      ],
      "source": [
        "install.packages(\"asaur\")\n",
        "library(asaur)\n",
        "\n",
        "install.packages(\"survival\")\n",
        "library(survival)"
      ]
    },
    {
      "cell_type": "code",
      "source": [
        "attach(pharmacoSmoking)\n",
        "\n",
        "pharmacoSmoking"
      ],
      "metadata": {
        "colab": {
          "base_uri": "https://localhost:8080/",
          "height": 1000
        },
        "id": "iNwMGheYZg6I",
        "outputId": "b8aabb6a-d60d-4f35-e8c2-bad4790a55ac"
      },
      "execution_count": 9,
      "outputs": [
        {
          "output_type": "stream",
          "name": "stderr",
          "text": [
            "The following objects are masked from pharmacoSmoking (pos = 3):\n",
            "\n",
            "    age, ageGroup2, ageGroup4, employment, gender, grp, id,\n",
            "    levelSmoking, longestNoSmoke, priorAttempts, race, relapse, ttr,\n",
            "    yearsSmoking\n",
            "\n",
            "\n",
            "The following objects are masked from pharmacoSmoking (pos = 4):\n",
            "\n",
            "    age, ageGroup2, ageGroup4, employment, gender, grp, id,\n",
            "    levelSmoking, longestNoSmoke, priorAttempts, race, relapse, ttr,\n",
            "    yearsSmoking\n",
            "\n",
            "\n",
            "The following objects are masked from pharmacoSmoking (pos = 5):\n",
            "\n",
            "    age, ageGroup2, ageGroup4, employment, gender, grp, id,\n",
            "    levelSmoking, longestNoSmoke, priorAttempts, race, relapse, ttr,\n",
            "    yearsSmoking\n",
            "\n",
            "\n",
            "The following objects are masked from pharmacoSmoking (pos = 6):\n",
            "\n",
            "    age, ageGroup2, ageGroup4, employment, gender, grp, id,\n",
            "    levelSmoking, longestNoSmoke, priorAttempts, race, relapse, ttr,\n",
            "    yearsSmoking\n",
            "\n",
            "\n",
            "The following objects are masked from pharmacoSmoking (pos = 7):\n",
            "\n",
            "    age, ageGroup2, ageGroup4, employment, gender, grp, id,\n",
            "    levelSmoking, longestNoSmoke, priorAttempts, race, relapse, ttr,\n",
            "    yearsSmoking\n",
            "\n",
            "\n"
          ]
        },
        {
          "output_type": "display_data",
          "data": {
            "text/html": [
              "<table class=\"dataframe\">\n",
              "<caption>A data.frame: 125 × 14</caption>\n",
              "<thead>\n",
              "\t<tr><th scope=col>id</th><th scope=col>ttr</th><th scope=col>relapse</th><th scope=col>grp</th><th scope=col>age</th><th scope=col>gender</th><th scope=col>race</th><th scope=col>employment</th><th scope=col>yearsSmoking</th><th scope=col>levelSmoking</th><th scope=col>ageGroup2</th><th scope=col>ageGroup4</th><th scope=col>priorAttempts</th><th scope=col>longestNoSmoke</th></tr>\n",
              "\t<tr><th scope=col>&lt;int&gt;</th><th scope=col>&lt;int&gt;</th><th scope=col>&lt;int&gt;</th><th scope=col>&lt;fct&gt;</th><th scope=col>&lt;int&gt;</th><th scope=col>&lt;fct&gt;</th><th scope=col>&lt;fct&gt;</th><th scope=col>&lt;fct&gt;</th><th scope=col>&lt;int&gt;</th><th scope=col>&lt;fct&gt;</th><th scope=col>&lt;fct&gt;</th><th scope=col>&lt;fct&gt;</th><th scope=col>&lt;int&gt;</th><th scope=col>&lt;int&gt;</th></tr>\n",
              "</thead>\n",
              "<tbody>\n",
              "\t<tr><td> 21</td><td>182</td><td>0</td><td>patchOnly  </td><td>36</td><td>Male  </td><td>white   </td><td>ft   </td><td>26</td><td>heavy</td><td>21-49</td><td>35-49</td><td> 0</td><td>   0</td></tr>\n",
              "\t<tr><td>113</td><td> 14</td><td>1</td><td>patchOnly  </td><td>41</td><td>Male  </td><td>white   </td><td>other</td><td>27</td><td>heavy</td><td>21-49</td><td>35-49</td><td> 3</td><td>  90</td></tr>\n",
              "\t<tr><td> 39</td><td>  5</td><td>1</td><td>combination</td><td>25</td><td>Female</td><td>white   </td><td>other</td><td>12</td><td>heavy</td><td>21-49</td><td>21-34</td><td> 3</td><td>  21</td></tr>\n",
              "\t<tr><td> 80</td><td> 16</td><td>1</td><td>combination</td><td>54</td><td>Male  </td><td>white   </td><td>ft   </td><td>39</td><td>heavy</td><td>50+  </td><td>50-64</td><td> 0</td><td>   0</td></tr>\n",
              "\t<tr><td> 87</td><td>  0</td><td>1</td><td>combination</td><td>45</td><td>Male  </td><td>white   </td><td>other</td><td>30</td><td>heavy</td><td>21-49</td><td>35-49</td><td> 0</td><td>   0</td></tr>\n",
              "\t<tr><td> 29</td><td>182</td><td>0</td><td>combination</td><td>43</td><td>Male  </td><td>hispanic</td><td>ft   </td><td>30</td><td>heavy</td><td>21-49</td><td>35-49</td><td> 2</td><td>1825</td></tr>\n",
              "\t<tr><td> 16</td><td> 14</td><td>1</td><td>patchOnly  </td><td>66</td><td>Male  </td><td>black   </td><td>pt   </td><td>54</td><td>heavy</td><td>50+  </td><td>65+  </td><td> 0</td><td>   0</td></tr>\n",
              "\t<tr><td> 35</td><td> 77</td><td>1</td><td>patchOnly  </td><td>78</td><td>Female</td><td>black   </td><td>other</td><td>56</td><td>light</td><td>50+  </td><td>65+  </td><td>10</td><td>  15</td></tr>\n",
              "\t<tr><td> 54</td><td>  2</td><td>1</td><td>patchOnly  </td><td>40</td><td>Female</td><td>black   </td><td>ft   </td><td>25</td><td>heavy</td><td>21-49</td><td>35-49</td><td> 4</td><td>   7</td></tr>\n",
              "\t<tr><td> 70</td><td>  0</td><td>1</td><td>patchOnly  </td><td>38</td><td>Male  </td><td>black   </td><td>ft   </td><td>23</td><td>light</td><td>21-49</td><td>35-49</td><td>10</td><td>  90</td></tr>\n",
              "\t<tr><td> 84</td><td> 12</td><td>1</td><td>patchOnly  </td><td>64</td><td>Female</td><td>black   </td><td>other</td><td>30</td><td>heavy</td><td>50+  </td><td>50-64</td><td>12</td><td> 365</td></tr>\n",
              "\t<tr><td> 85</td><td>182</td><td>0</td><td>combination</td><td>51</td><td>Male  </td><td>black   </td><td>ft   </td><td>35</td><td>heavy</td><td>50+  </td><td>50-64</td><td> 1</td><td>   7</td></tr>\n",
              "\t<tr><td> 25</td><td> 21</td><td>1</td><td>patchOnly  </td><td>37</td><td>Female</td><td>white   </td><td>pt   </td><td>23</td><td>light</td><td>21-49</td><td>35-49</td><td> 5</td><td>1095</td></tr>\n",
              "\t<tr><td> 47</td><td>  3</td><td>1</td><td>patchOnly  </td><td>65</td><td>Male  </td><td>white   </td><td>other</td><td>50</td><td>heavy</td><td>50+  </td><td>65+  </td><td> 6</td><td> 180</td></tr>\n",
              "\t<tr><td> 59</td><td>170</td><td>1</td><td>patchOnly  </td><td>42</td><td>Female</td><td>white   </td><td>ft   </td><td>30</td><td>heavy</td><td>21-49</td><td>35-49</td><td> 5</td><td> 240</td></tr>\n",
              "\t<tr><td> 63</td><td> 25</td><td>1</td><td>patchOnly  </td><td>40</td><td>Male  </td><td>white   </td><td>other</td><td>22</td><td>heavy</td><td>21-49</td><td>35-49</td><td> 2</td><td>   2</td></tr>\n",
              "\t<tr><td>102</td><td>  4</td><td>1</td><td>patchOnly  </td><td>65</td><td>Female</td><td>white   </td><td>other</td><td>50</td><td>light</td><td>50+  </td><td>65+  </td><td> 1</td><td>   2</td></tr>\n",
              "\t<tr><td>  3</td><td>182</td><td>0</td><td>combination</td><td>52</td><td>Female</td><td>white   </td><td>other</td><td>19</td><td>light</td><td>50+  </td><td>50-64</td><td> 1</td><td>   7</td></tr>\n",
              "\t<tr><td> 15</td><td>140</td><td>1</td><td>combination</td><td>43</td><td>Male  </td><td>white   </td><td>ft   </td><td>27</td><td>heavy</td><td>21-49</td><td>35-49</td><td> 5</td><td> 120</td></tr>\n",
              "\t<tr><td> 32</td><td> 63</td><td>1</td><td>combination</td><td>34</td><td>Female</td><td>white   </td><td>ft   </td><td>18</td><td>heavy</td><td>21-49</td><td>21-34</td><td> 8</td><td>  90</td></tr>\n",
              "\t<tr><td> 79</td><td> 15</td><td>1</td><td>combination</td><td>46</td><td>Female</td><td>white   </td><td>other</td><td>26</td><td>heavy</td><td>21-49</td><td>35-49</td><td> 2</td><td>  14</td></tr>\n",
              "\t<tr><td> 90</td><td>140</td><td>1</td><td>combination</td><td>60</td><td>Male  </td><td>white   </td><td>ft   </td><td>42</td><td>light</td><td>50+  </td><td>50-64</td><td> 6</td><td>2920</td></tr>\n",
              "\t<tr><td>110</td><td>110</td><td>1</td><td>combination</td><td>49</td><td>Female</td><td>white   </td><td>other</td><td>35</td><td>heavy</td><td>21-49</td><td>35-49</td><td>10</td><td>  60</td></tr>\n",
              "\t<tr><td>127</td><td>182</td><td>0</td><td>combination</td><td>58</td><td>Female</td><td>white   </td><td>ft   </td><td>38</td><td>heavy</td><td>50+  </td><td>50-64</td><td> 1</td><td>   0</td></tr>\n",
              "\t<tr><td>119</td><td>  0</td><td>1</td><td>patchOnly  </td><td>48</td><td>Male  </td><td>hispanic</td><td>other</td><td>33</td><td>heavy</td><td>21-49</td><td>35-49</td><td> 4</td><td> 120</td></tr>\n",
              "\t<tr><td> 33</td><td>182</td><td>0</td><td>combination</td><td>54</td><td>Female</td><td>hispanic</td><td>other</td><td>38</td><td>light</td><td>50+  </td><td>50-64</td><td>30</td><td>3650</td></tr>\n",
              "\t<tr><td> 62</td><td> 15</td><td>1</td><td>patchOnly  </td><td>49</td><td>Female</td><td>black   </td><td>pt   </td><td>35</td><td>light</td><td>21-49</td><td>35-49</td><td> 4</td><td> 540</td></tr>\n",
              "\t<tr><td> 67</td><td>182</td><td>0</td><td>patchOnly  </td><td>55</td><td>Male  </td><td>black   </td><td>ft   </td><td>39</td><td>heavy</td><td>50+  </td><td>50-64</td><td> 1</td><td>  28</td></tr>\n",
              "\t<tr><td>112</td><td>  4</td><td>1</td><td>patchOnly  </td><td>33</td><td>Male  </td><td>black   </td><td>ft   </td><td>12</td><td>light</td><td>21-49</td><td>21-34</td><td> 1</td><td> 730</td></tr>\n",
              "\t<tr><td> 60</td><td> 56</td><td>1</td><td>combination</td><td>49</td><td>Female</td><td>black   </td><td>ft   </td><td>37</td><td>heavy</td><td>21-49</td><td>35-49</td><td> 3</td><td>2920</td></tr>\n",
              "\t<tr><td>⋮</td><td>⋮</td><td>⋮</td><td>⋮</td><td>⋮</td><td>⋮</td><td>⋮</td><td>⋮</td><td>⋮</td><td>⋮</td><td>⋮</td><td>⋮</td><td>⋮</td><td>⋮</td></tr>\n",
              "\t<tr><td>  2</td><td>182</td><td>0</td><td>combination</td><td>69</td><td>Male  </td><td>white   </td><td>other</td><td>50</td><td>heavy</td><td>50+  </td><td>65+  </td><td>   6</td><td>5475</td></tr>\n",
              "\t<tr><td>  5</td><td>182</td><td>0</td><td>combination</td><td>41</td><td>Male  </td><td>white   </td><td>ft   </td><td>29</td><td>heavy</td><td>21-49</td><td>35-49</td><td>  20</td><td> 180</td></tr>\n",
              "\t<tr><td> 14</td><td>182</td><td>0</td><td>combination</td><td>52</td><td>Female</td><td>white   </td><td>other</td><td>33</td><td>heavy</td><td>50+  </td><td>50-64</td><td>   5</td><td> 270</td></tr>\n",
              "\t<tr><td> 18</td><td>182</td><td>0</td><td>combination</td><td>52</td><td>Female</td><td>white   </td><td>ft   </td><td>30</td><td>heavy</td><td>50+  </td><td>50-64</td><td>   3</td><td>1095</td></tr>\n",
              "\t<tr><td> 51</td><td>182</td><td>0</td><td>combination</td><td>53</td><td>Male  </td><td>white   </td><td>ft   </td><td>30</td><td>heavy</td><td>50+  </td><td>50-64</td><td>   3</td><td>3285</td></tr>\n",
              "\t<tr><td> 57</td><td> 21</td><td>1</td><td>combination</td><td>31</td><td>Female</td><td>white   </td><td>ft   </td><td>15</td><td>heavy</td><td>21-49</td><td>21-34</td><td>   4</td><td>  90</td></tr>\n",
              "\t<tr><td> 64</td><td> 60</td><td>1</td><td>combination</td><td>70</td><td>Female</td><td>white   </td><td>other</td><td>54</td><td>heavy</td><td>50+  </td><td>65+  </td><td>   1</td><td>  90</td></tr>\n",
              "\t<tr><td> 76</td><td>  0</td><td>1</td><td>combination</td><td>43</td><td>Male  </td><td>white   </td><td>other</td><td>29</td><td>heavy</td><td>21-49</td><td>35-49</td><td>  12</td><td>   6</td></tr>\n",
              "\t<tr><td> 92</td><td>182</td><td>0</td><td>combination</td><td>58</td><td>Female</td><td>white   </td><td>ft   </td><td>36</td><td>light</td><td>50+  </td><td>50-64</td><td>   2</td><td>  90</td></tr>\n",
              "\t<tr><td> 98</td><td> 65</td><td>1</td><td>combination</td><td>48</td><td>Female</td><td>white   </td><td>ft   </td><td>34</td><td>heavy</td><td>21-49</td><td>35-49</td><td>1000</td><td> 548</td></tr>\n",
              "\t<tr><td>103</td><td>182</td><td>0</td><td>combination</td><td>72</td><td>Male  </td><td>white   </td><td>other</td><td>55</td><td>light</td><td>50+  </td><td>65+  </td><td>  30</td><td>  30</td></tr>\n",
              "\t<tr><td>105</td><td>182</td><td>0</td><td>combination</td><td>61</td><td>Female</td><td>white   </td><td>other</td><td>45</td><td>heavy</td><td>50+  </td><td>50-64</td><td>   1</td><td>  60</td></tr>\n",
              "\t<tr><td>121</td><td>182</td><td>0</td><td>combination</td><td>53</td><td>Female</td><td>white   </td><td>ft   </td><td>41</td><td>heavy</td><td>50+  </td><td>50-64</td><td>   3</td><td>  60</td></tr>\n",
              "\t<tr><td> 96</td><td>182</td><td>0</td><td>combination</td><td>63</td><td>Female</td><td>other   </td><td>other</td><td>52</td><td>heavy</td><td>50+  </td><td>50-64</td><td>   2</td><td> 180</td></tr>\n",
              "\t<tr><td> 46</td><td>  2</td><td>1</td><td>combination</td><td>40</td><td>Female</td><td>hispanic</td><td>pt   </td><td>23</td><td>heavy</td><td>21-49</td><td>35-49</td><td>   2</td><td>   3</td></tr>\n",
              "\t<tr><td> 28</td><td> 40</td><td>1</td><td>patchOnly  </td><td>39</td><td>Female</td><td>black   </td><td>ft   </td><td>20</td><td>light</td><td>21-49</td><td>35-49</td><td>   3</td><td> 210</td></tr>\n",
              "\t<tr><td> 53</td><td>100</td><td>1</td><td>patchOnly  </td><td>60</td><td>Female</td><td>black   </td><td>ft   </td><td>20</td><td>light</td><td>50+  </td><td>50-64</td><td>   5</td><td>1825</td></tr>\n",
              "\t<tr><td> 55</td><td>  1</td><td>1</td><td>patchOnly  </td><td>54</td><td>Female</td><td>black   </td><td>other</td><td>34</td><td>light</td><td>50+  </td><td>50-64</td><td>   2</td><td> 365</td></tr>\n",
              "\t<tr><td> 73</td><td> 45</td><td>1</td><td>patchOnly  </td><td>68</td><td>Female</td><td>black   </td><td>ft   </td><td>25</td><td>light</td><td>50+  </td><td>65+  </td><td>   2</td><td>   7</td></tr>\n",
              "\t<tr><td> 77</td><td> 14</td><td>1</td><td>patchOnly  </td><td>54</td><td>Female</td><td>black   </td><td>ft   </td><td>22</td><td>heavy</td><td>50+  </td><td>50-64</td><td>   5</td><td>  10</td></tr>\n",
              "\t<tr><td>109</td><td> 30</td><td>1</td><td>patchOnly  </td><td>51</td><td>Male  </td><td>black   </td><td>other</td><td>30</td><td>heavy</td><td>50+  </td><td>50-64</td><td>   2</td><td>  30</td></tr>\n",
              "\t<tr><td> 17</td><td> 42</td><td>1</td><td>combination</td><td>39</td><td>Female</td><td>black   </td><td>ft   </td><td>23</td><td>light</td><td>21-49</td><td>35-49</td><td>   2</td><td>1825</td></tr>\n",
              "\t<tr><td> 45</td><td>  2</td><td>1</td><td>combination</td><td>47</td><td>Female</td><td>black   </td><td>ft   </td><td>33</td><td>light</td><td>21-49</td><td>35-49</td><td>   4</td><td> 365</td></tr>\n",
              "\t<tr><td> 48</td><td>182</td><td>0</td><td>combination</td><td>33</td><td>Female</td><td>black   </td><td>ft   </td><td>10</td><td>light</td><td>21-49</td><td>21-34</td><td>   2</td><td>   1</td></tr>\n",
              "\t<tr><td> 50</td><td> 60</td><td>1</td><td>combination</td><td>27</td><td>Female</td><td>black   </td><td>ft   </td><td>11</td><td>light</td><td>21-49</td><td>21-34</td><td>   2</td><td>  14</td></tr>\n",
              "\t<tr><td> 74</td><td> 10</td><td>1</td><td>combination</td><td>45</td><td>Female</td><td>black   </td><td>ft   </td><td>32</td><td>heavy</td><td>21-49</td><td>35-49</td><td>   1</td><td>  75</td></tr>\n",
              "\t<tr><td> 89</td><td>  0</td><td>1</td><td>combination</td><td>36</td><td>Female</td><td>black   </td><td>ft   </td><td>20</td><td>heavy</td><td>21-49</td><td>35-49</td><td>   1</td><td> 270</td></tr>\n",
              "\t<tr><td>108</td><td>170</td><td>1</td><td>combination</td><td>39</td><td>Male  </td><td>black   </td><td>ft   </td><td>20</td><td>light</td><td>21-49</td><td>35-49</td><td>   3</td><td> 180</td></tr>\n",
              "\t<tr><td>118</td><td> 15</td><td>1</td><td>combination</td><td>56</td><td>Female</td><td>black   </td><td>other</td><td>39</td><td>heavy</td><td>50+  </td><td>50-64</td><td>   3</td><td>   7</td></tr>\n",
              "\t<tr><td>128</td><td>182</td><td>0</td><td>combination</td><td>50</td><td>Female</td><td>black   </td><td>pt   </td><td>30</td><td>heavy</td><td>50+  </td><td>50-64</td><td>   0</td><td>   0</td></tr>\n",
              "</tbody>\n",
              "</table>\n"
            ],
            "text/markdown": "\nA data.frame: 125 × 14\n\n| id &lt;int&gt; | ttr &lt;int&gt; | relapse &lt;int&gt; | grp &lt;fct&gt; | age &lt;int&gt; | gender &lt;fct&gt; | race &lt;fct&gt; | employment &lt;fct&gt; | yearsSmoking &lt;int&gt; | levelSmoking &lt;fct&gt; | ageGroup2 &lt;fct&gt; | ageGroup4 &lt;fct&gt; | priorAttempts &lt;int&gt; | longestNoSmoke &lt;int&gt; |\n|---|---|---|---|---|---|---|---|---|---|---|---|---|---|\n|  21 | 182 | 0 | patchOnly   | 36 | Male   | white    | ft    | 26 | heavy | 21-49 | 35-49 |  0 |    0 |\n| 113 |  14 | 1 | patchOnly   | 41 | Male   | white    | other | 27 | heavy | 21-49 | 35-49 |  3 |   90 |\n|  39 |   5 | 1 | combination | 25 | Female | white    | other | 12 | heavy | 21-49 | 21-34 |  3 |   21 |\n|  80 |  16 | 1 | combination | 54 | Male   | white    | ft    | 39 | heavy | 50+   | 50-64 |  0 |    0 |\n|  87 |   0 | 1 | combination | 45 | Male   | white    | other | 30 | heavy | 21-49 | 35-49 |  0 |    0 |\n|  29 | 182 | 0 | combination | 43 | Male   | hispanic | ft    | 30 | heavy | 21-49 | 35-49 |  2 | 1825 |\n|  16 |  14 | 1 | patchOnly   | 66 | Male   | black    | pt    | 54 | heavy | 50+   | 65+   |  0 |    0 |\n|  35 |  77 | 1 | patchOnly   | 78 | Female | black    | other | 56 | light | 50+   | 65+   | 10 |   15 |\n|  54 |   2 | 1 | patchOnly   | 40 | Female | black    | ft    | 25 | heavy | 21-49 | 35-49 |  4 |    7 |\n|  70 |   0 | 1 | patchOnly   | 38 | Male   | black    | ft    | 23 | light | 21-49 | 35-49 | 10 |   90 |\n|  84 |  12 | 1 | patchOnly   | 64 | Female | black    | other | 30 | heavy | 50+   | 50-64 | 12 |  365 |\n|  85 | 182 | 0 | combination | 51 | Male   | black    | ft    | 35 | heavy | 50+   | 50-64 |  1 |    7 |\n|  25 |  21 | 1 | patchOnly   | 37 | Female | white    | pt    | 23 | light | 21-49 | 35-49 |  5 | 1095 |\n|  47 |   3 | 1 | patchOnly   | 65 | Male   | white    | other | 50 | heavy | 50+   | 65+   |  6 |  180 |\n|  59 | 170 | 1 | patchOnly   | 42 | Female | white    | ft    | 30 | heavy | 21-49 | 35-49 |  5 |  240 |\n|  63 |  25 | 1 | patchOnly   | 40 | Male   | white    | other | 22 | heavy | 21-49 | 35-49 |  2 |    2 |\n| 102 |   4 | 1 | patchOnly   | 65 | Female | white    | other | 50 | light | 50+   | 65+   |  1 |    2 |\n|   3 | 182 | 0 | combination | 52 | Female | white    | other | 19 | light | 50+   | 50-64 |  1 |    7 |\n|  15 | 140 | 1 | combination | 43 | Male   | white    | ft    | 27 | heavy | 21-49 | 35-49 |  5 |  120 |\n|  32 |  63 | 1 | combination | 34 | Female | white    | ft    | 18 | heavy | 21-49 | 21-34 |  8 |   90 |\n|  79 |  15 | 1 | combination | 46 | Female | white    | other | 26 | heavy | 21-49 | 35-49 |  2 |   14 |\n|  90 | 140 | 1 | combination | 60 | Male   | white    | ft    | 42 | light | 50+   | 50-64 |  6 | 2920 |\n| 110 | 110 | 1 | combination | 49 | Female | white    | other | 35 | heavy | 21-49 | 35-49 | 10 |   60 |\n| 127 | 182 | 0 | combination | 58 | Female | white    | ft    | 38 | heavy | 50+   | 50-64 |  1 |    0 |\n| 119 |   0 | 1 | patchOnly   | 48 | Male   | hispanic | other | 33 | heavy | 21-49 | 35-49 |  4 |  120 |\n|  33 | 182 | 0 | combination | 54 | Female | hispanic | other | 38 | light | 50+   | 50-64 | 30 | 3650 |\n|  62 |  15 | 1 | patchOnly   | 49 | Female | black    | pt    | 35 | light | 21-49 | 35-49 |  4 |  540 |\n|  67 | 182 | 0 | patchOnly   | 55 | Male   | black    | ft    | 39 | heavy | 50+   | 50-64 |  1 |   28 |\n| 112 |   4 | 1 | patchOnly   | 33 | Male   | black    | ft    | 12 | light | 21-49 | 21-34 |  1 |  730 |\n|  60 |  56 | 1 | combination | 49 | Female | black    | ft    | 37 | heavy | 21-49 | 35-49 |  3 | 2920 |\n| ⋮ | ⋮ | ⋮ | ⋮ | ⋮ | ⋮ | ⋮ | ⋮ | ⋮ | ⋮ | ⋮ | ⋮ | ⋮ | ⋮ |\n|   2 | 182 | 0 | combination | 69 | Male   | white    | other | 50 | heavy | 50+   | 65+   |    6 | 5475 |\n|   5 | 182 | 0 | combination | 41 | Male   | white    | ft    | 29 | heavy | 21-49 | 35-49 |   20 |  180 |\n|  14 | 182 | 0 | combination | 52 | Female | white    | other | 33 | heavy | 50+   | 50-64 |    5 |  270 |\n|  18 | 182 | 0 | combination | 52 | Female | white    | ft    | 30 | heavy | 50+   | 50-64 |    3 | 1095 |\n|  51 | 182 | 0 | combination | 53 | Male   | white    | ft    | 30 | heavy | 50+   | 50-64 |    3 | 3285 |\n|  57 |  21 | 1 | combination | 31 | Female | white    | ft    | 15 | heavy | 21-49 | 21-34 |    4 |   90 |\n|  64 |  60 | 1 | combination | 70 | Female | white    | other | 54 | heavy | 50+   | 65+   |    1 |   90 |\n|  76 |   0 | 1 | combination | 43 | Male   | white    | other | 29 | heavy | 21-49 | 35-49 |   12 |    6 |\n|  92 | 182 | 0 | combination | 58 | Female | white    | ft    | 36 | light | 50+   | 50-64 |    2 |   90 |\n|  98 |  65 | 1 | combination | 48 | Female | white    | ft    | 34 | heavy | 21-49 | 35-49 | 1000 |  548 |\n| 103 | 182 | 0 | combination | 72 | Male   | white    | other | 55 | light | 50+   | 65+   |   30 |   30 |\n| 105 | 182 | 0 | combination | 61 | Female | white    | other | 45 | heavy | 50+   | 50-64 |    1 |   60 |\n| 121 | 182 | 0 | combination | 53 | Female | white    | ft    | 41 | heavy | 50+   | 50-64 |    3 |   60 |\n|  96 | 182 | 0 | combination | 63 | Female | other    | other | 52 | heavy | 50+   | 50-64 |    2 |  180 |\n|  46 |   2 | 1 | combination | 40 | Female | hispanic | pt    | 23 | heavy | 21-49 | 35-49 |    2 |    3 |\n|  28 |  40 | 1 | patchOnly   | 39 | Female | black    | ft    | 20 | light | 21-49 | 35-49 |    3 |  210 |\n|  53 | 100 | 1 | patchOnly   | 60 | Female | black    | ft    | 20 | light | 50+   | 50-64 |    5 | 1825 |\n|  55 |   1 | 1 | patchOnly   | 54 | Female | black    | other | 34 | light | 50+   | 50-64 |    2 |  365 |\n|  73 |  45 | 1 | patchOnly   | 68 | Female | black    | ft    | 25 | light | 50+   | 65+   |    2 |    7 |\n|  77 |  14 | 1 | patchOnly   | 54 | Female | black    | ft    | 22 | heavy | 50+   | 50-64 |    5 |   10 |\n| 109 |  30 | 1 | patchOnly   | 51 | Male   | black    | other | 30 | heavy | 50+   | 50-64 |    2 |   30 |\n|  17 |  42 | 1 | combination | 39 | Female | black    | ft    | 23 | light | 21-49 | 35-49 |    2 | 1825 |\n|  45 |   2 | 1 | combination | 47 | Female | black    | ft    | 33 | light | 21-49 | 35-49 |    4 |  365 |\n|  48 | 182 | 0 | combination | 33 | Female | black    | ft    | 10 | light | 21-49 | 21-34 |    2 |    1 |\n|  50 |  60 | 1 | combination | 27 | Female | black    | ft    | 11 | light | 21-49 | 21-34 |    2 |   14 |\n|  74 |  10 | 1 | combination | 45 | Female | black    | ft    | 32 | heavy | 21-49 | 35-49 |    1 |   75 |\n|  89 |   0 | 1 | combination | 36 | Female | black    | ft    | 20 | heavy | 21-49 | 35-49 |    1 |  270 |\n| 108 | 170 | 1 | combination | 39 | Male   | black    | ft    | 20 | light | 21-49 | 35-49 |    3 |  180 |\n| 118 |  15 | 1 | combination | 56 | Female | black    | other | 39 | heavy | 50+   | 50-64 |    3 |    7 |\n| 128 | 182 | 0 | combination | 50 | Female | black    | pt    | 30 | heavy | 50+   | 50-64 |    0 |    0 |\n\n",
            "text/latex": "A data.frame: 125 × 14\n\\begin{tabular}{llllllllllllll}\n id & ttr & relapse & grp & age & gender & race & employment & yearsSmoking & levelSmoking & ageGroup2 & ageGroup4 & priorAttempts & longestNoSmoke\\\\\n <int> & <int> & <int> & <fct> & <int> & <fct> & <fct> & <fct> & <int> & <fct> & <fct> & <fct> & <int> & <int>\\\\\n\\hline\n\t  21 & 182 & 0 & patchOnly   & 36 & Male   & white    & ft    & 26 & heavy & 21-49 & 35-49 &  0 &    0\\\\\n\t 113 &  14 & 1 & patchOnly   & 41 & Male   & white    & other & 27 & heavy & 21-49 & 35-49 &  3 &   90\\\\\n\t  39 &   5 & 1 & combination & 25 & Female & white    & other & 12 & heavy & 21-49 & 21-34 &  3 &   21\\\\\n\t  80 &  16 & 1 & combination & 54 & Male   & white    & ft    & 39 & heavy & 50+   & 50-64 &  0 &    0\\\\\n\t  87 &   0 & 1 & combination & 45 & Male   & white    & other & 30 & heavy & 21-49 & 35-49 &  0 &    0\\\\\n\t  29 & 182 & 0 & combination & 43 & Male   & hispanic & ft    & 30 & heavy & 21-49 & 35-49 &  2 & 1825\\\\\n\t  16 &  14 & 1 & patchOnly   & 66 & Male   & black    & pt    & 54 & heavy & 50+   & 65+   &  0 &    0\\\\\n\t  35 &  77 & 1 & patchOnly   & 78 & Female & black    & other & 56 & light & 50+   & 65+   & 10 &   15\\\\\n\t  54 &   2 & 1 & patchOnly   & 40 & Female & black    & ft    & 25 & heavy & 21-49 & 35-49 &  4 &    7\\\\\n\t  70 &   0 & 1 & patchOnly   & 38 & Male   & black    & ft    & 23 & light & 21-49 & 35-49 & 10 &   90\\\\\n\t  84 &  12 & 1 & patchOnly   & 64 & Female & black    & other & 30 & heavy & 50+   & 50-64 & 12 &  365\\\\\n\t  85 & 182 & 0 & combination & 51 & Male   & black    & ft    & 35 & heavy & 50+   & 50-64 &  1 &    7\\\\\n\t  25 &  21 & 1 & patchOnly   & 37 & Female & white    & pt    & 23 & light & 21-49 & 35-49 &  5 & 1095\\\\\n\t  47 &   3 & 1 & patchOnly   & 65 & Male   & white    & other & 50 & heavy & 50+   & 65+   &  6 &  180\\\\\n\t  59 & 170 & 1 & patchOnly   & 42 & Female & white    & ft    & 30 & heavy & 21-49 & 35-49 &  5 &  240\\\\\n\t  63 &  25 & 1 & patchOnly   & 40 & Male   & white    & other & 22 & heavy & 21-49 & 35-49 &  2 &    2\\\\\n\t 102 &   4 & 1 & patchOnly   & 65 & Female & white    & other & 50 & light & 50+   & 65+   &  1 &    2\\\\\n\t   3 & 182 & 0 & combination & 52 & Female & white    & other & 19 & light & 50+   & 50-64 &  1 &    7\\\\\n\t  15 & 140 & 1 & combination & 43 & Male   & white    & ft    & 27 & heavy & 21-49 & 35-49 &  5 &  120\\\\\n\t  32 &  63 & 1 & combination & 34 & Female & white    & ft    & 18 & heavy & 21-49 & 21-34 &  8 &   90\\\\\n\t  79 &  15 & 1 & combination & 46 & Female & white    & other & 26 & heavy & 21-49 & 35-49 &  2 &   14\\\\\n\t  90 & 140 & 1 & combination & 60 & Male   & white    & ft    & 42 & light & 50+   & 50-64 &  6 & 2920\\\\\n\t 110 & 110 & 1 & combination & 49 & Female & white    & other & 35 & heavy & 21-49 & 35-49 & 10 &   60\\\\\n\t 127 & 182 & 0 & combination & 58 & Female & white    & ft    & 38 & heavy & 50+   & 50-64 &  1 &    0\\\\\n\t 119 &   0 & 1 & patchOnly   & 48 & Male   & hispanic & other & 33 & heavy & 21-49 & 35-49 &  4 &  120\\\\\n\t  33 & 182 & 0 & combination & 54 & Female & hispanic & other & 38 & light & 50+   & 50-64 & 30 & 3650\\\\\n\t  62 &  15 & 1 & patchOnly   & 49 & Female & black    & pt    & 35 & light & 21-49 & 35-49 &  4 &  540\\\\\n\t  67 & 182 & 0 & patchOnly   & 55 & Male   & black    & ft    & 39 & heavy & 50+   & 50-64 &  1 &   28\\\\\n\t 112 &   4 & 1 & patchOnly   & 33 & Male   & black    & ft    & 12 & light & 21-49 & 21-34 &  1 &  730\\\\\n\t  60 &  56 & 1 & combination & 49 & Female & black    & ft    & 37 & heavy & 21-49 & 35-49 &  3 & 2920\\\\\n\t ⋮ & ⋮ & ⋮ & ⋮ & ⋮ & ⋮ & ⋮ & ⋮ & ⋮ & ⋮ & ⋮ & ⋮ & ⋮ & ⋮\\\\\n\t   2 & 182 & 0 & combination & 69 & Male   & white    & other & 50 & heavy & 50+   & 65+   &    6 & 5475\\\\\n\t   5 & 182 & 0 & combination & 41 & Male   & white    & ft    & 29 & heavy & 21-49 & 35-49 &   20 &  180\\\\\n\t  14 & 182 & 0 & combination & 52 & Female & white    & other & 33 & heavy & 50+   & 50-64 &    5 &  270\\\\\n\t  18 & 182 & 0 & combination & 52 & Female & white    & ft    & 30 & heavy & 50+   & 50-64 &    3 & 1095\\\\\n\t  51 & 182 & 0 & combination & 53 & Male   & white    & ft    & 30 & heavy & 50+   & 50-64 &    3 & 3285\\\\\n\t  57 &  21 & 1 & combination & 31 & Female & white    & ft    & 15 & heavy & 21-49 & 21-34 &    4 &   90\\\\\n\t  64 &  60 & 1 & combination & 70 & Female & white    & other & 54 & heavy & 50+   & 65+   &    1 &   90\\\\\n\t  76 &   0 & 1 & combination & 43 & Male   & white    & other & 29 & heavy & 21-49 & 35-49 &   12 &    6\\\\\n\t  92 & 182 & 0 & combination & 58 & Female & white    & ft    & 36 & light & 50+   & 50-64 &    2 &   90\\\\\n\t  98 &  65 & 1 & combination & 48 & Female & white    & ft    & 34 & heavy & 21-49 & 35-49 & 1000 &  548\\\\\n\t 103 & 182 & 0 & combination & 72 & Male   & white    & other & 55 & light & 50+   & 65+   &   30 &   30\\\\\n\t 105 & 182 & 0 & combination & 61 & Female & white    & other & 45 & heavy & 50+   & 50-64 &    1 &   60\\\\\n\t 121 & 182 & 0 & combination & 53 & Female & white    & ft    & 41 & heavy & 50+   & 50-64 &    3 &   60\\\\\n\t  96 & 182 & 0 & combination & 63 & Female & other    & other & 52 & heavy & 50+   & 50-64 &    2 &  180\\\\\n\t  46 &   2 & 1 & combination & 40 & Female & hispanic & pt    & 23 & heavy & 21-49 & 35-49 &    2 &    3\\\\\n\t  28 &  40 & 1 & patchOnly   & 39 & Female & black    & ft    & 20 & light & 21-49 & 35-49 &    3 &  210\\\\\n\t  53 & 100 & 1 & patchOnly   & 60 & Female & black    & ft    & 20 & light & 50+   & 50-64 &    5 & 1825\\\\\n\t  55 &   1 & 1 & patchOnly   & 54 & Female & black    & other & 34 & light & 50+   & 50-64 &    2 &  365\\\\\n\t  73 &  45 & 1 & patchOnly   & 68 & Female & black    & ft    & 25 & light & 50+   & 65+   &    2 &    7\\\\\n\t  77 &  14 & 1 & patchOnly   & 54 & Female & black    & ft    & 22 & heavy & 50+   & 50-64 &    5 &   10\\\\\n\t 109 &  30 & 1 & patchOnly   & 51 & Male   & black    & other & 30 & heavy & 50+   & 50-64 &    2 &   30\\\\\n\t  17 &  42 & 1 & combination & 39 & Female & black    & ft    & 23 & light & 21-49 & 35-49 &    2 & 1825\\\\\n\t  45 &   2 & 1 & combination & 47 & Female & black    & ft    & 33 & light & 21-49 & 35-49 &    4 &  365\\\\\n\t  48 & 182 & 0 & combination & 33 & Female & black    & ft    & 10 & light & 21-49 & 21-34 &    2 &    1\\\\\n\t  50 &  60 & 1 & combination & 27 & Female & black    & ft    & 11 & light & 21-49 & 21-34 &    2 &   14\\\\\n\t  74 &  10 & 1 & combination & 45 & Female & black    & ft    & 32 & heavy & 21-49 & 35-49 &    1 &   75\\\\\n\t  89 &   0 & 1 & combination & 36 & Female & black    & ft    & 20 & heavy & 21-49 & 35-49 &    1 &  270\\\\\n\t 108 & 170 & 1 & combination & 39 & Male   & black    & ft    & 20 & light & 21-49 & 35-49 &    3 &  180\\\\\n\t 118 &  15 & 1 & combination & 56 & Female & black    & other & 39 & heavy & 50+   & 50-64 &    3 &    7\\\\\n\t 128 & 182 & 0 & combination & 50 & Female & black    & pt    & 30 & heavy & 50+   & 50-64 &    0 &    0\\\\\n\\end{tabular}\n",
            "text/plain": [
              "    id  ttr relapse grp         age gender race     employment yearsSmoking\n",
              "1    21 182 0       patchOnly   36  Male   white    ft         26          \n",
              "2   113  14 1       patchOnly   41  Male   white    other      27          \n",
              "3    39   5 1       combination 25  Female white    other      12          \n",
              "4    80  16 1       combination 54  Male   white    ft         39          \n",
              "5    87   0 1       combination 45  Male   white    other      30          \n",
              "6    29 182 0       combination 43  Male   hispanic ft         30          \n",
              "7    16  14 1       patchOnly   66  Male   black    pt         54          \n",
              "8    35  77 1       patchOnly   78  Female black    other      56          \n",
              "9    54   2 1       patchOnly   40  Female black    ft         25          \n",
              "10   70   0 1       patchOnly   38  Male   black    ft         23          \n",
              "11   84  12 1       patchOnly   64  Female black    other      30          \n",
              "12   85 182 0       combination 51  Male   black    ft         35          \n",
              "13   25  21 1       patchOnly   37  Female white    pt         23          \n",
              "14   47   3 1       patchOnly   65  Male   white    other      50          \n",
              "15   59 170 1       patchOnly   42  Female white    ft         30          \n",
              "16   63  25 1       patchOnly   40  Male   white    other      22          \n",
              "17  102   4 1       patchOnly   65  Female white    other      50          \n",
              "18    3 182 0       combination 52  Female white    other      19          \n",
              "19   15 140 1       combination 43  Male   white    ft         27          \n",
              "20   32  63 1       combination 34  Female white    ft         18          \n",
              "21   79  15 1       combination 46  Female white    other      26          \n",
              "22   90 140 1       combination 60  Male   white    ft         42          \n",
              "23  110 110 1       combination 49  Female white    other      35          \n",
              "24  127 182 0       combination 58  Female white    ft         38          \n",
              "25  119   0 1       patchOnly   48  Male   hispanic other      33          \n",
              "26   33 182 0       combination 54  Female hispanic other      38          \n",
              "27   62  15 1       patchOnly   49  Female black    pt         35          \n",
              "28   67 182 0       patchOnly   55  Male   black    ft         39          \n",
              "29  112   4 1       patchOnly   33  Male   black    ft         12          \n",
              "30   60  56 1       combination 49  Female black    ft         37          \n",
              "⋮   ⋮   ⋮   ⋮       ⋮           ⋮   ⋮      ⋮        ⋮          ⋮           \n",
              "96    2 182 0       combination 69  Male   white    other      50          \n",
              "97    5 182 0       combination 41  Male   white    ft         29          \n",
              "98   14 182 0       combination 52  Female white    other      33          \n",
              "99   18 182 0       combination 52  Female white    ft         30          \n",
              "100  51 182 0       combination 53  Male   white    ft         30          \n",
              "101  57  21 1       combination 31  Female white    ft         15          \n",
              "102  64  60 1       combination 70  Female white    other      54          \n",
              "103  76   0 1       combination 43  Male   white    other      29          \n",
              "104  92 182 0       combination 58  Female white    ft         36          \n",
              "105  98  65 1       combination 48  Female white    ft         34          \n",
              "106 103 182 0       combination 72  Male   white    other      55          \n",
              "107 105 182 0       combination 61  Female white    other      45          \n",
              "108 121 182 0       combination 53  Female white    ft         41          \n",
              "109  96 182 0       combination 63  Female other    other      52          \n",
              "110  46   2 1       combination 40  Female hispanic pt         23          \n",
              "111  28  40 1       patchOnly   39  Female black    ft         20          \n",
              "112  53 100 1       patchOnly   60  Female black    ft         20          \n",
              "113  55   1 1       patchOnly   54  Female black    other      34          \n",
              "114  73  45 1       patchOnly   68  Female black    ft         25          \n",
              "115  77  14 1       patchOnly   54  Female black    ft         22          \n",
              "116 109  30 1       patchOnly   51  Male   black    other      30          \n",
              "117  17  42 1       combination 39  Female black    ft         23          \n",
              "118  45   2 1       combination 47  Female black    ft         33          \n",
              "119  48 182 0       combination 33  Female black    ft         10          \n",
              "120  50  60 1       combination 27  Female black    ft         11          \n",
              "121  74  10 1       combination 45  Female black    ft         32          \n",
              "122  89   0 1       combination 36  Female black    ft         20          \n",
              "123 108 170 1       combination 39  Male   black    ft         20          \n",
              "124 118  15 1       combination 56  Female black    other      39          \n",
              "125 128 182 0       combination 50  Female black    pt         30          \n",
              "    levelSmoking ageGroup2 ageGroup4 priorAttempts longestNoSmoke\n",
              "1   heavy        21-49     35-49      0               0          \n",
              "2   heavy        21-49     35-49      3              90          \n",
              "3   heavy        21-49     21-34      3              21          \n",
              "4   heavy        50+       50-64      0               0          \n",
              "5   heavy        21-49     35-49      0               0          \n",
              "6   heavy        21-49     35-49      2            1825          \n",
              "7   heavy        50+       65+        0               0          \n",
              "8   light        50+       65+       10              15          \n",
              "9   heavy        21-49     35-49      4               7          \n",
              "10  light        21-49     35-49     10              90          \n",
              "11  heavy        50+       50-64     12             365          \n",
              "12  heavy        50+       50-64      1               7          \n",
              "13  light        21-49     35-49      5            1095          \n",
              "14  heavy        50+       65+        6             180          \n",
              "15  heavy        21-49     35-49      5             240          \n",
              "16  heavy        21-49     35-49      2               2          \n",
              "17  light        50+       65+        1               2          \n",
              "18  light        50+       50-64      1               7          \n",
              "19  heavy        21-49     35-49      5             120          \n",
              "20  heavy        21-49     21-34      8              90          \n",
              "21  heavy        21-49     35-49      2              14          \n",
              "22  light        50+       50-64      6            2920          \n",
              "23  heavy        21-49     35-49     10              60          \n",
              "24  heavy        50+       50-64      1               0          \n",
              "25  heavy        21-49     35-49      4             120          \n",
              "26  light        50+       50-64     30            3650          \n",
              "27  light        21-49     35-49      4             540          \n",
              "28  heavy        50+       50-64      1              28          \n",
              "29  light        21-49     21-34      1             730          \n",
              "30  heavy        21-49     35-49      3            2920          \n",
              "⋮   ⋮            ⋮         ⋮         ⋮             ⋮             \n",
              "96  heavy        50+       65+          6          5475          \n",
              "97  heavy        21-49     35-49       20           180          \n",
              "98  heavy        50+       50-64        5           270          \n",
              "99  heavy        50+       50-64        3          1095          \n",
              "100 heavy        50+       50-64        3          3285          \n",
              "101 heavy        21-49     21-34        4            90          \n",
              "102 heavy        50+       65+          1            90          \n",
              "103 heavy        21-49     35-49       12             6          \n",
              "104 light        50+       50-64        2            90          \n",
              "105 heavy        21-49     35-49     1000           548          \n",
              "106 light        50+       65+         30            30          \n",
              "107 heavy        50+       50-64        1            60          \n",
              "108 heavy        50+       50-64        3            60          \n",
              "109 heavy        50+       50-64        2           180          \n",
              "110 heavy        21-49     35-49        2             3          \n",
              "111 light        21-49     35-49        3           210          \n",
              "112 light        50+       50-64        5          1825          \n",
              "113 light        50+       50-64        2           365          \n",
              "114 light        50+       65+          2             7          \n",
              "115 heavy        50+       50-64        5            10          \n",
              "116 heavy        50+       50-64        2            30          \n",
              "117 light        21-49     35-49        2          1825          \n",
              "118 light        21-49     35-49        4           365          \n",
              "119 light        21-49     21-34        2             1          \n",
              "120 light        21-49     21-34        2            14          \n",
              "121 heavy        21-49     35-49        1            75          \n",
              "122 heavy        21-49     35-49        1           270          \n",
              "123 light        21-49     35-49        3           180          \n",
              "124 heavy        50+       50-64        3             7          \n",
              "125 heavy        50+       50-64        0             0          "
            ]
          },
          "metadata": {}
        }
      ]
    },
    {
      "cell_type": "code",
      "source": [
        "survdiff(Surv(ttr, relapse) ~ grp, rho = 1) # Prentice modification"
      ],
      "metadata": {
        "colab": {
          "base_uri": "https://localhost:8080/",
          "height": 165
        },
        "id": "b_zN_R8jaYy_",
        "outputId": "d28700af-dc26-41fb-b870-3ff546cc5f11"
      },
      "execution_count": 11,
      "outputs": [
        {
          "output_type": "display_data",
          "data": {
            "text/plain": [
              "Call:\n",
              "survdiff(formula = Surv(ttr, relapse) ~ grp, rho = 1)\n",
              "\n",
              "                 N Observed Expected (O-E)^2/E (O-E)^2/V\n",
              "grp=combination 61     23.1     32.1      2.53      8.01\n",
              "grp=patchOnly   64     35.8     26.8      3.04      8.01\n",
              "\n",
              " Chisq= 8  on 1 degrees of freedom, p= 0.005 "
            ]
          },
          "metadata": {}
        }
      ]
    },
    {
      "cell_type": "code",
      "source": [
        "survdiff(Surv(ttr, relapse) ~ grp, rho = 0) # Log-rank test "
      ],
      "metadata": {
        "colab": {
          "base_uri": "https://localhost:8080/",
          "height": 165
        },
        "id": "2siWU7t9bNKy",
        "outputId": "23ecda14-6c8c-4ee2-dd67-84c1125dd581"
      },
      "execution_count": 12,
      "outputs": [
        {
          "output_type": "display_data",
          "data": {
            "text/plain": [
              "Call:\n",
              "survdiff(formula = Surv(ttr, relapse) ~ grp, rho = 0)\n",
              "\n",
              "                 N Observed Expected (O-E)^2/E (O-E)^2/V\n",
              "grp=combination 61       37     49.9      3.36      8.03\n",
              "grp=patchOnly   64       52     39.1      4.29      8.03\n",
              "\n",
              " Chisq= 8  on 1 degrees of freedom, p= 0.005 "
            ]
          },
          "metadata": {}
        }
      ]
    },
    {
      "cell_type": "markdown",
      "source": [
        "Not much difference in p-value and log-rank test statistics. Under both rho values, the group difference is statistically significant. "
      ],
      "metadata": {
        "id": "Frt2yR7tbacH"
      }
    },
    {
      "cell_type": "code",
      "source": [
        "plot(survfit(Surv(ttr, relapse) ~ grp), xlab = \"Time\", ylab = \"Survival Probability\", col = c(\"blue\", \"red\"))\n",
        "legend(\"topright\", legend = c(\"Combination\", \"Patch Only\"), col = c(\"blue\", \"red\"), lwd = 2)"
      ],
      "metadata": {
        "colab": {
          "base_uri": "https://localhost:8080/",
          "height": 437
        },
        "id": "arNl4J6Vbny9",
        "outputId": "335a2ccb-8431-4bba-edd6-155c115c2aa0"
      },
      "execution_count": 16,
      "outputs": [
        {
          "output_type": "display_data",
          "data": {
            "text/plain": [
              "plot without title"
            ],
            "image/png": "[encoded data removed]"
          },
          "metadata": {
            "image/png": {
              "width": 420,
              "height": 420
            }
          }
        }
      ]
    },
    {
      "cell_type": "markdown",
      "source": [
        "Patients that received a combination of treatment have a higher survival probaility. "
      ],
      "metadata": {
        "id": "Etk6EOZlcmo6"
      }
    },
    {
      "cell_type": "markdown",
      "source": [
        "**Question 2**\n",
        "\n",
        "Again using the pharmacoSmoking data, carry out a log-rank test comparing\n",
        "the two treatments stratifying on employment status."
      ],
      "metadata": {
        "id": "HpXQVnMbczAK"
      }
    },
    {
      "cell_type": "code",
      "source": [
        "survdiff(Surv(ttr, relapse) ~ grp + strata(employment))"
      ],
      "metadata": {
        "colab": {
          "base_uri": "https://localhost:8080/",
          "height": 165
        },
        "id": "KqROix1scaSn",
        "outputId": "07228ad1-dfa1-4e96-b833-03e055d2aef6"
      },
      "execution_count": 17,
      "outputs": [
        {
          "output_type": "display_data",
          "data": {
            "text/plain": [
              "Call:\n",
              "survdiff(formula = Surv(ttr, relapse) ~ grp + strata(employment))\n",
              "\n",
              "                 N Observed Expected (O-E)^2/E (O-E)^2/V\n",
              "grp=combination 61       37     50.3      3.50      8.58\n",
              "grp=patchOnly   64       52     38.7      4.54      8.58\n",
              "\n",
              " Chisq= 8.6  on 1 degrees of freedom, p= 0.003 "
            ]
          },
          "metadata": {}
        }
      ]
    },
    {
      "cell_type": "markdown",
      "source": [
        "Not necessary to add this variable since the chi-square only differ a little from that of question 1."
      ],
      "metadata": {
        "id": "bVkdss-idY3i"
      }
    }
  ]
}